{
 "cells": [
  {
   "cell_type": "markdown",
   "metadata": {},
   "source": [
    "- Q.1 Define different types of variables (integer, boolean, string, float, complex) and print their values and their types."
   ]
  },
  {
   "cell_type": "code",
   "execution_count": 44,
   "metadata": {},
   "outputs": [
    {
     "name": "stdout",
     "output_type": "stream",
     "text": [
      "1\n",
      "<class 'int'>\n"
     ]
    }
   ],
   "source": [
    "a = 1 # Integer data type\n",
    "print(a) # Print value\n",
    "print(type(a))  # Print the data type"
   ]
  },
  {
   "cell_type": "code",
   "execution_count": 45,
   "metadata": {},
   "outputs": [
    {
     "name": "stdout",
     "output_type": "stream",
     "text": [
      "True\n",
      "<class 'bool'>\n"
     ]
    }
   ],
   "source": [
    "b = True # Boolean data type\n",
    "print(b) # Print value\n",
    "print(type(b))  # Print the data type"
   ]
  },
  {
   "cell_type": "code",
   "execution_count": 46,
   "metadata": {},
   "outputs": [
    {
     "name": "stdout",
     "output_type": "stream",
     "text": [
      "Success\n",
      "<class 'str'>\n"
     ]
    }
   ],
   "source": [
    "c = \"Success\" # String data type\n",
    "print(c)  # Print value\n",
    "print(type(c))  # Print the data type\n"
   ]
  },
  {
   "cell_type": "code",
   "execution_count": 47,
   "metadata": {},
   "outputs": [
    {
     "name": "stdout",
     "output_type": "stream",
     "text": [
      "9.5\n",
      "<class 'float'>\n"
     ]
    }
   ],
   "source": [
    "d = 9.5 # Float data type\n",
    "print(d)  # Print value\n",
    "print(type(d))   # Print the data type"
   ]
  },
  {
   "cell_type": "code",
   "execution_count": 48,
   "metadata": {},
   "outputs": [
    {
     "name": "stdout",
     "output_type": "stream",
     "text": [
      "(3+6j)\n",
      "<class 'complex'>\n"
     ]
    }
   ],
   "source": [
    "e = 3 + 6j # Complex data type\n",
    "print(e)   # Print value  \n",
    "print(type(e))   # Print the data type"
   ]
  },
  {
   "cell_type": "markdown",
   "metadata": {},
   "source": [
    "- Q.2 In the above question convert float variable into integer type and integer variable into str type."
   ]
  },
  {
   "cell_type": "code",
   "execution_count": 34,
   "metadata": {},
   "outputs": [
    {
     "name": "stdout",
     "output_type": "stream",
     "text": [
      "9.5\n",
      "<class 'float'>\n",
      "9\n",
      "<class 'int'>\n"
     ]
    }
   ],
   "source": [
    "d = 9.5 # Float data type\n",
    "print(d)    # Print value\n",
    "print(type(d))  # Print the data type\n",
    "f = int(d)   # Conversion of float into integer\n",
    "print(f)    # Print value\n",
    "print(type(f))    # Print the data type\n"
   ]
  },
  {
   "cell_type": "markdown",
   "metadata": {},
   "source": [
    "- Q.3 What will you get converting “abc” into boolean ? "
   ]
  },
  {
   "cell_type": "code",
   "execution_count": 37,
   "metadata": {},
   "outputs": [
    {
     "name": "stdout",
     "output_type": "stream",
     "text": [
      "abc\n",
      "<class 'str'>\n",
      "True\n",
      "<class 'bool'>\n"
     ]
    }
   ],
   "source": [
    "h = \"abc\" # String data type\n",
    "print(h)   # Print value\n",
    "print(type(h))  # Print data type\n",
    "i = bool(h)  # Conversion of string data type into boolean data type\n",
    "print(i)    # Print value\n",
    "print(type(i))  # Print data type\n"
   ]
  },
  {
   "cell_type": "markdown",
   "metadata": {},
   "source": [
    "-  Q.4 Print the substring from index 2 to index 4 for any given string. For example (llo) from “Hello World” "
   ]
  },
  {
   "cell_type": "code",
   "execution_count": 40,
   "metadata": {},
   "outputs": [
    {
     "name": "stdout",
     "output_type": "stream",
     "text": [
      "Jyoti Sabarad\n",
      "oti\n"
     ]
    }
   ],
   "source": [
    "k = \"Jyoti Sabarad\" # Defining  a string data type\n",
    "print(k)    # Print value\n",
    "l = (k[2 : 5]) # substring from index 2 to index 4\n",
    "print(l)  # Print value"
   ]
  },
  {
   "cell_type": "markdown",
   "metadata": {},
   "source": [
    "- Q.5 Write a program to check a substring in a given string. For example 'e' is present in the word 'Umbrella' "
   ]
  },
  {
   "cell_type": "code",
   "execution_count": 47,
   "metadata": {},
   "outputs": [
    {
     "name": "stdout",
     "output_type": "stream",
     "text": [
      "Umbrella\n",
      "Substring is present in String!\n"
     ]
    }
   ],
   "source": [
    "String =  'Umbrella'   # Defining given string data type\n",
    "print(String)  # Print string\n",
    "sub_str = 'e'  # sustring\n",
    "if(String.find(sub_str) == -1):  # Check is substring is present or not.\n",
    "     print(\"Substring is not found in String!\")  # Print substring is not found\n",
    "else:\n",
    "     print(\"Substring is present in String!\")   # Print substring is found"
   ]
  },
  {
   "cell_type": "markdown",
   "metadata": {},
   "source": [
    "- Q.6 Use the correct comparison operator to check if 5 is not equal to 10. "
   ]
  },
  {
   "cell_type": "code",
   "execution_count": 49,
   "metadata": {},
   "outputs": [
    {
     "name": "stdout",
     "output_type": "stream",
     "text": [
      "True\n"
     ]
    }
   ],
   "source": [
    "w = 5 # First string\n",
    "u =10 # Second string\n",
    "print(w != u)  # Print 5 is not equal to 10 is true "
   ]
  },
  {
   "cell_type": "markdown",
   "metadata": {},
   "source": [
    "- Q.7 Write a program to get a string from the user and sort the words of the string in alphabetical order. "
   ]
  },
  {
   "cell_type": "code",
   "execution_count": 50,
   "metadata": {},
   "outputs": [
    {
     "name": "stdout",
     "output_type": "stream",
     "text": [
      "JyotiJ y o t i \n",
      "['J', 'i', 'o', 't', 'y']\n"
     ]
    }
   ],
   "source": [
    "my_str = input(\"Jyoti\")  # Define an input string\n",
    "words = my_str. split() # Breakdown the string into a list of words.\n",
    "words.sort() # sort the list.\n",
    "print(words) # Print the sorted words."
   ]
  },
  {
   "cell_type": "markdown",
   "metadata": {},
   "source": [
    "- Q.8 . Join two words using special characters like ‘ – ‘ ,’#’ "
   ]
  },
  {
   "cell_type": "code",
   "execution_count": 8,
   "metadata": {},
   "outputs": [
    {
     "name": "stdout",
     "output_type": "stream",
     "text": [
      "Enter a word: Jyoti\n",
      "Enter another word: Yogesh\n",
      "Concatenation of two words is :  JyotiYogesh\n"
     ]
    },
    {
     "data": {
      "text/plain": [
       "'Jyoti-Yogesh'"
      ]
     },
     "execution_count": 8,
     "metadata": {},
     "output_type": "execute_result"
    }
   ],
   "source": [
    "r = input(\"Enter a word: \")   # First word\n",
    "z = input(\"Enter another word: \")  # Second word\n",
    "q = r + z   # Concatenation operation\n",
    "print(\"Concatenation of two words is : \" , q)  # Concate two words\n",
    "v = ['J' 'y' 'o' 't' 'i''-''Y' 'o' 'g' 'e' 's' 'h']  \n",
    "'-'.join(v)   # Joining of two words "
   ]
  },
  {
   "cell_type": "code",
   "execution_count": 9,
   "metadata": {},
   "outputs": [
    {
     "name": "stdout",
     "output_type": "stream",
     "text": [
      "Enter a word: Jyoti\n",
      "Enter another word: Yogesh\n",
      "Concatenation of two words is :  JyotiYogesh\n"
     ]
    },
    {
     "data": {
      "text/plain": [
       "'Jyoti#Yogesh'"
      ]
     },
     "execution_count": 9,
     "metadata": {},
     "output_type": "execute_result"
    }
   ],
   "source": [
    "t = input(\"Enter a word: \")   # First word\n",
    "p = input(\"Enter another word: \")  # Second word\n",
    "m = t + p\n",
    "print(\"Concatenation of two words is : \" , m)  # Concate two words\n",
    "v = ['J' 'y' 'o' 't' 'i''#''Y' 'o' 'g' 'e' 's' 'h']  \n",
    "'-'.join(v)   # Joining of two words "
   ]
  },
  {
   "cell_type": "markdown",
   "metadata": {},
   "source": [
    "- Q.9 Find all occurrences of “INDIA” in a given string ignoring the case. \n",
    "      input_str = \"Welcome to INDIA. india is awesome.\n"
   ]
  },
  {
   "cell_type": "code",
   "execution_count": 23,
   "metadata": {},
   "outputs": [
    {
     "name": "stdout",
     "output_type": "stream",
     "text": [
      "1\n"
     ]
    }
   ],
   "source": [
    "# Case 1\n",
    "input_str = \"Welcome to INDIA. india is awesome.\"   # Define a given string \n",
    "print(input_str.count(\"INDIA\"))      # Print the occurance of \"INDIA\" "
   ]
  },
  {
   "cell_type": "code",
   "execution_count": 22,
   "metadata": {},
   "outputs": [
    {
     "name": "stdout",
     "output_type": "stream",
     "text": [
      "2\n"
     ]
    }
   ],
   "source": [
    "# Case 2\n",
    "input_str = \"Welcome to INDIA. india is awesome.\"      # Define a given string \n",
    "M = input_str.count(\"INDIA\") + input_str.count(\"india\")  # The occurance of \"INDIA\" \n",
    "print(M)      # Print the occurance of \"INDIA\" and \"india\""
   ]
  },
  {
   "cell_type": "markdown",
   "metadata": {},
   "source": [
    "- Q.10 Replace first two ‘l’ with ‘n’ in ‘Hello World’ "
   ]
  },
  {
   "cell_type": "code",
   "execution_count": 18,
   "metadata": {},
   "outputs": [
    {
     "name": "stdout",
     "output_type": "stream",
     "text": [
      "Heno World\n"
     ]
    }
   ],
   "source": [
    "oldstring1 = 'Hello World'  # Define a given string\n",
    "newstring1 = oldstring1.replace(oldstring1[2:4], 'n')  # Applying replace method for first two l insert n\n",
    "print(newstring1)   # Print new resultant string"
   ]
  },
  {
   "cell_type": "markdown",
   "metadata": {},
   "source": [
    "- Q.11 Write a program that takes your full name as input and displays the abbreviations of the first and middle names except the last name which is displayed as it is. For example, if your name is Robert Brett Roser, then the output should be R.B.Roser"
   ]
  },
  {
   "cell_type": "code",
   "execution_count": 27,
   "metadata": {},
   "outputs": [
    {
     "name": "stdout",
     "output_type": "stream",
     "text": [
      "J.V.Sabarad\n"
     ]
    }
   ],
   "source": [
    "string2 = \"Jyoti Vijay Sabarad\"  # Define a string\n",
    "string2 = string2.split()    # Use split method\n",
    "newstring2 = (string2[0][0] + '.' + string2[1][0] + '.' + string2[2])  # By taking abbreviations\n",
    "print(newstring2)  # Print new resultant string"
   ]
  },
  {
   "cell_type": "markdown",
   "metadata": {},
   "source": [
    "- Q.12  Write a program to check if a given string is a Palindrome. \n",
    "       A palindrome reads the same from front and back e.g.- aba, ccaacc, mom, etc.\n"
   ]
  },
  {
   "cell_type": "code",
   "execution_count": 24,
   "metadata": {},
   "outputs": [
    {
     "name": "stdout",
     "output_type": "stream",
     "text": [
      "The string is a palindrome.\n"
     ]
    }
   ],
   "source": [
    "my_str = 'Mom'    # Program to check if a string is palindrome or not and define a string\n",
    "my_str = my_str.casefold()   # Make it suitable for caseless comparison\n",
    "rev_str = reversed(my_str)  # Reverse the string\n",
    "if list(my_str) == list(rev_str):   # Check if the string is equal to its reverse\n",
    "   print(\"The string is a palindrome.\")  # Print the string is palindrome\n",
    "else:\n",
    "   print(\"The string is not a palindrome.\")  # Print the string is palindrome"
   ]
  },
  {
   "cell_type": "code",
   "execution_count": null,
   "metadata": {},
   "outputs": [],
   "source": []
  }
 ],
 "metadata": {
  "kernelspec": {
   "display_name": "Python 3",
   "language": "python",
   "name": "python3"
  },
  "language_info": {
   "codemirror_mode": {
    "name": "ipython",
    "version": 3
   },
   "file_extension": ".py",
   "mimetype": "text/x-python",
   "name": "python",
   "nbconvert_exporter": "python",
   "pygments_lexer": "ipython3",
   "version": "3.7.6"
  }
 },
 "nbformat": 4,
 "nbformat_minor": 4
}
