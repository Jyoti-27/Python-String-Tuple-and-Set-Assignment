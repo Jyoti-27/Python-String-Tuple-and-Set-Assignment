{
 "cells": [
  {
   "cell_type": "markdown",
   "metadata": {},
   "source": [
    "- Q.1 Write a Python program to add an item in a tuple. "
   ]
  },
  {
   "cell_type": "code",
   "execution_count": 1,
   "metadata": {},
   "outputs": [
    {
     "name": "stdout",
     "output_type": "stream",
     "text": [
      "()\n",
      "(10, 20, 30, 40)\n"
     ]
    }
   ],
   "source": [
    "tuple1=()    # Define an empty tuple\n",
    "print(tuple1) # Print value\n",
    "a=10,20,30,40   # Adding values\n",
    "tuple1=a   # Adding values in empty touple\n",
    "print(tuple1)  # Print tuple"
   ]
  },
  {
   "cell_type": "markdown",
   "metadata": {},
   "source": [
    "- Q.2 Write a Python program to reverse a tuple. "
   ]
  },
  {
   "cell_type": "code",
   "execution_count": 7,
   "metadata": {},
   "outputs": [
    {
     "name": "stdout",
     "output_type": "stream",
     "text": [
      "('i', 'r', 'u', 'a', 'G')\n"
     ]
    }
   ],
   "source": [
    "# First Method\n",
    "x = (\"Gauri\")   # Define a tuple\n",
    "y = reversed(x)     # Reversed the tuple\n",
    "print(tuple(y))     # Reversed the tuple"
   ]
  },
  {
   "cell_type": "code",
   "execution_count": 2,
   "metadata": {},
   "outputs": [
    {
     "name": "stdout",
     "output_type": "stream",
     "text": [
      "('StudyTonight', 9.56, 3.78, 2, 1)\n"
     ]
    }
   ],
   "source": [
    "# Second Method\n",
    "my_tuple = (1,2,3.78, 9.56,\"StudyTonight\")      # Define a tuple         \n",
    "my_tuple = tuple(reversed(my_tuple))            # Reversed the tuple\n",
    "print(my_tuple)                                 # Reversed the tuple"
   ]
  },
  {
   "cell_type": "markdown",
   "metadata": {},
   "source": [
    "- Q.3 Swap the following two tuples \n",
    "      tuple1 = (11, 22) \n",
    "      tuple2 = (99, 88) \n"
   ]
  },
  {
   "cell_type": "code",
   "execution_count": 3,
   "metadata": {},
   "outputs": [
    {
     "name": "stdout",
     "output_type": "stream",
     "text": [
      "(99, 88)\n",
      "(11, 22)\n"
     ]
    }
   ],
   "source": [
    "tuple1 = (11, 22)  # Define touple1\n",
    "tuple2 = (99, 88)  # Define touple2 \n",
    "tuple1, tuple2 = tuple2, tuple1  # Swapping of two touples\n",
    "print(tuple1)      # Print touple1\n",
    "print(tuple2)     # Print touple2"
   ]
  },
  {
   "cell_type": "markdown",
   "metadata": {},
   "source": [
    "- Q.4 . Modify the first item (22) of a list inside a following tuple to 222 \n",
    "        tuple1 = (11, [22, 33], 44, 55) \t\n"
   ]
  },
  {
   "cell_type": "code",
   "execution_count": 4,
   "metadata": {},
   "outputs": [
    {
     "name": "stdout",
     "output_type": "stream",
     "text": [
      "(11, [222, 33], 44, 55)\n"
     ]
    }
   ],
   "source": [
    "tuple1 = (11, [22, 33], 44, 55)    # Define touple1 \n",
    "tuple1[1][0] = 222   # Replace the value of first position zero element with new element\n",
    "print(tuple1)  # Print the new touple"
   ]
  },
  {
   "cell_type": "markdown",
   "metadata": {},
   "source": [
    "- Q.5 Write a Python program to unpack a tuple in several variables "
   ]
  },
  {
   "cell_type": "code",
   "execution_count": 3,
   "metadata": {},
   "outputs": [
    {
     "name": "stdout",
     "output_type": "stream",
     "text": [
      "(4, 8, 3)\n",
      "15\n"
     ]
    },
    {
     "ename": "ValueError",
     "evalue": "not enough values to unpack (expected 4, got 3)",
     "output_type": "error",
     "traceback": [
      "\u001b[1;31m---------------------------------------------------------------------------\u001b[0m",
      "\u001b[1;31mValueError\u001b[0m                                Traceback (most recent call last)",
      "\u001b[1;32m<ipython-input-3-b9629e2f6383>\u001b[0m in \u001b[0;36m<module>\u001b[1;34m\u001b[0m\n\u001b[0;32m      3\u001b[0m \u001b[0mn1\u001b[0m\u001b[1;33m,\u001b[0m \u001b[0mn2\u001b[0m\u001b[1;33m,\u001b[0m \u001b[0mn3\u001b[0m \u001b[1;33m=\u001b[0m \u001b[0mtuplex\u001b[0m\u001b[1;33m\u001b[0m\u001b[1;33m\u001b[0m\u001b[0m\n\u001b[0;32m      4\u001b[0m \u001b[0mprint\u001b[0m\u001b[1;33m(\u001b[0m\u001b[0mn1\u001b[0m \u001b[1;33m+\u001b[0m \u001b[0mn2\u001b[0m \u001b[1;33m+\u001b[0m \u001b[0mn3\u001b[0m\u001b[1;33m)\u001b[0m     \u001b[1;31m# unpack a tuple in variables\u001b[0m\u001b[1;33m\u001b[0m\u001b[1;33m\u001b[0m\u001b[0m\n\u001b[1;32m----> 5\u001b[1;33m \u001b[0mn1\u001b[0m\u001b[1;33m,\u001b[0m \u001b[0mn2\u001b[0m\u001b[1;33m,\u001b[0m \u001b[0mn3\u001b[0m\u001b[1;33m,\u001b[0m \u001b[0mn4\u001b[0m\u001b[1;33m=\u001b[0m \u001b[0mtuplex\u001b[0m  \u001b[1;31m# The number of variables must be equal to the number of items of the tuple\u001b[0m\u001b[1;33m\u001b[0m\u001b[1;33m\u001b[0m\u001b[0m\n\u001b[0m",
      "\u001b[1;31mValueError\u001b[0m: not enough values to unpack (expected 4, got 3)"
     ]
    }
   ],
   "source": [
    "# First Method\n",
    "tuplex = 4, 8, 3   # Define a tuple\n",
    "print(tuplex)   # Print vlaue\n",
    "n1, n2, n3 = tuplex\n",
    "print(n1 + n2 + n3)     # unpack a tuple in variables\n",
    "n1, n2, n3, n4= tuplex  # The number of variables must be equal to the number of items of the tuple "
   ]
  },
  {
   "cell_type": "code",
   "execution_count": 5,
   "metadata": {},
   "outputs": [
    {
     "name": "stdout",
     "output_type": "stream",
     "text": [
      "1000\n",
      "1000\n"
     ]
    }
   ],
   "source": [
    "# Second Method\n",
    "# Python code to study about unpacking python tuple using function \n",
    "\n",
    "def result(x, y):  # Function takes normal arguments and multiply them \n",
    "\treturn x * y \n",
    "print (result(10, 100))    # function with normal variables    \n",
    "z = (10, 100)      # A tuple is created  \n",
    "print (result(*z))    # Tuple is passed function unpacked them \n"
   ]
  },
  {
   "cell_type": "code",
   "execution_count": 6,
   "metadata": {},
   "outputs": [
    {
     "name": "stdout",
     "output_type": "stream",
     "text": [
      "['a', 'apple', 'b', 'ball']\n"
     ]
    }
   ],
   "source": [
    "# Third Method\n",
    "# Python3 program to unpack \n",
    "# tuple of lists \n",
    "from functools import reduce\n",
    "import operator \n",
    "def unpackTuple(tup): \n",
    "\t\n",
    "\treturn (reduce(operator.add, tup)) \n",
    "tup = (['a', 'apple'], ['b', 'ball'])    # Driver code \n",
    "print(unpackTuple(tup))   #Print unpack tuple value\n"
   ]
  },
  {
   "cell_type": "code",
   "execution_count": 7,
   "metadata": {},
   "outputs": [
    {
     "name": "stdout",
     "output_type": "stream",
     "text": [
      "first name: Paul last name: Resnick\n",
      "first name: Brad last name: Miller\n",
      "first name: Lauren last name: Murphy\n"
     ]
    }
   ],
   "source": [
    "# Forth Method\n",
    "authors = [('Paul', 'Resnick'), ('Brad', 'Miller'), ('Lauren', 'Murphy')]\n",
    "for first_name, last_name in authors:\n",
    "    print(\"first name:\", first_name, \"last name:\", last_name)\n"
   ]
  },
  {
   "cell_type": "markdown",
   "metadata": {},
   "source": [
    "- Q.6 Write a Python program to add member(s) in an empty set. "
   ]
  },
  {
   "cell_type": "code",
   "execution_count": 16,
   "metadata": {},
   "outputs": [
    {
     "name": "stdout",
     "output_type": "stream",
     "text": [
      "{'Red'}\n",
      "{'Red', 'Blue', 'Green'}\n"
     ]
    }
   ],
   "source": [
    "color_set = set()      # A new empty set\n",
    "color_set.add(\"Red\")   # Add color set into empty set\n",
    "print(color_set)\n",
    "color_set.update([\"Blue\", \"Green\"])     # Add multiple items\n",
    "print(color_set)     # Print multiple color set into empty set\n"
   ]
  },
  {
   "cell_type": "markdown",
   "metadata": {},
   "source": [
    "- Q.7 Write a Python program to create an intersection of sets."
   ]
  },
  {
   "cell_type": "code",
   "execution_count": 19,
   "metadata": {},
   "outputs": [
    {
     "name": "stdout",
     "output_type": "stream",
     "text": [
      "{'blue'}\n"
     ]
    }
   ],
   "source": [
    "setx = set([\"green\", \"blue\"])   # Define a first set \n",
    "sety = set([\"blue\", \"yellow\"])  # Define a second set\n",
    "setz = setx & sety    # Intersection\n",
    "print(setz)    # Print Intersection result"
   ]
  },
  {
   "cell_type": "markdown",
   "metadata": {},
   "source": [
    "- Q.8 Write a Python program to create a symmetric difference in sets."
   ]
  },
  {
   "cell_type": "code",
   "execution_count": 8,
   "metadata": {},
   "outputs": [
    {
     "name": "stdout",
     "output_type": "stream",
     "text": [
      "{'orange', 'apple'}\n"
     ]
    }
   ],
   "source": [
    "setx = set([\"apple\", \"mango\"])   # Define a first set \n",
    "sety = set([\"mango\", \"orange\"]) # Define a second set\n",
    "setc = setx ^ sety  # Symmetric difference\n",
    "print(setc)    # Print Symmetric difference result"
   ]
  },
  {
   "cell_type": "markdown",
   "metadata": {},
   "source": [
    "- Q.9  Return a set of identical items from a given two Python set \n",
    "       set1 = [10, 20, 30, 40, 50]\n",
    "       set2 = [30, 40, 50, 60, 70] \n"
   ]
  },
  {
   "cell_type": "code",
   "execution_count": 9,
   "metadata": {},
   "outputs": [
    {
     "name": "stdout",
     "output_type": "stream",
     "text": [
      "Two sets have items in identical\n",
      "{40, 50, 30}\n"
     ]
    }
   ],
   "source": [
    "set1 = {10, 20, 30, 40, 50}   # Define a first set \n",
    "set2 = {30, 40, 50, 60, 70}  # Define a second set\n",
    "if set1.isdisjoint(set2):    # Check items are identical or not\n",
    "  print(\"Two sets have no items in iedntical\")  # Two sets have no items in identical\n",
    "else:\n",
    "  print(\"Two sets have items in identical\")   # Two sets have items in identical\n",
    "  print(set1.intersection(set2))   # Print an identical values"
   ]
  },
  {
   "cell_type": "markdown",
   "metadata": {},
   "source": [
    "- Q.10 Remove 10, 20, 30 elements from a following set at once \n",
    "       set1 = {10, 20, 30, 40, 50} \n"
   ]
  },
  {
   "cell_type": "code",
   "execution_count": 10,
   "metadata": {},
   "outputs": [
    {
     "name": "stdout",
     "output_type": "stream",
     "text": [
      "{40, 50}\n"
     ]
    }
   ],
   "source": [
    "set1 = {10, 20, 30, 40, 50}   # Define a set\n",
    "set1.difference_update({10, 20, 30})    # Remove 10,20,30 from given set\n",
    "print(set1)     # Print remaing elements"
   ]
  },
  {
   "cell_type": "markdown",
   "metadata": {},
   "source": [
    "- Q.11 Access value 20 from the following tuple example = (\"Pooja\", [10, 20, 30], (25, 50, 15)). "
   ]
  },
  {
   "cell_type": "code",
   "execution_count": 11,
   "metadata": {},
   "outputs": [
    {
     "name": "stdout",
     "output_type": "stream",
     "text": [
      "20\n"
     ]
    }
   ],
   "source": [
    "tuple3 = (\"Pooja\", [10, 20, 30], (25, 50, 15))   # Define a tuple\n",
    "print(tuple3[1] [1])      # Print result of accessing value 20"
   ]
  },
  {
   "cell_type": "markdown",
   "metadata": {},
   "source": [
    "- Q.12 Count the number of occurrences of item 50 from a tuple numbers = (50, 10, 60, 70, 50)."
   ]
  },
  {
   "cell_type": "code",
   "execution_count": 13,
   "metadata": {},
   "outputs": [
    {
     "name": "stdout",
     "output_type": "stream",
     "text": [
      "2\n"
     ]
    }
   ],
   "source": [
    "tuple4 = (50, 10, 60, 70, 50)   # Define a tuple\n",
    "print(tuple4.count(50))     # Print and Count the number of occurrences of item 50 from a given tuple"
   ]
  },
  {
   "cell_type": "code",
   "execution_count": null,
   "metadata": {},
   "outputs": [],
   "source": []
  }
 ],
 "metadata": {
  "kernelspec": {
   "display_name": "Python 3",
   "language": "python",
   "name": "python3"
  },
  "language_info": {
   "codemirror_mode": {
    "name": "ipython",
    "version": 3
   },
   "file_extension": ".py",
   "mimetype": "text/x-python",
   "name": "python",
   "nbconvert_exporter": "python",
   "pygments_lexer": "ipython3",
   "version": "3.7.6"
  }
 },
 "nbformat": 4,
 "nbformat_minor": 4
}
